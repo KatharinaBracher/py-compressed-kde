{
 "cells": [
  {
   "cell_type": "markdown",
   "metadata": {},
   "source": [
    "# Neural decoding: position on a multi-arm track"
   ]
  },
  {
   "cell_type": "markdown",
   "metadata": {},
   "source": [
    "Here is a full example of using the tools in the `compressed_kde.decode` module to perform spike-sorting-less decoding of a subject's position in a maze from spiking activity recorded on multiple tetrodes. To check decoding performance, we perform cross-validation in which each trial is used in turn to test the encoding model that is built from the other trials."
   ]
  },
  {
   "cell_type": "markdown",
   "metadata": {},
   "source": [
    "## imports"
   ]
  },
  {
   "cell_type": "code",
   "execution_count": 1,
   "metadata": {},
   "outputs": [],
   "source": [
    "# import numerical libraries\n",
    "import numpy as np\n",
    "import scipy.interpolate\n",
    "import os\n",
    "\n",
    "# the data is stored in a HDF5 file\n",
    "# so import the tools to load HDF5 files\n",
    "import h5py\n",
    "\n",
    "# import plotting tools and set up\n",
    "# inline figures for the notebook\n",
    "import matplotlib.pyplot as plt\n",
    "\n",
    "%matplotlib inline\n",
    "\n",
    "# the description of the maze is encoded in YAML\n",
    "# so let's import tools to parse YAML\n",
    "import yaml\n",
    "\n",
    "# Fklab-python-core tool \n",
    "#-----------------------\n",
    "\n",
    "# importing the shapes module is needed to extend the YAML parser\n",
    "# so that it recognizes YAML representations of shapes\n",
    "import fklab.geometry.shapes\n",
    "\n",
    "# import utilities to work with time segments\n",
    "import fklab.segments\n",
    "\n",
    "# Py-compressed-kde package\n",
    "# -------------------------\n",
    "\n",
    "# finally, import the decoding tools\n",
    "import compressed_kde\n",
    "from compressed_kde import decode"
   ]
  },
  {
   "cell_type": "markdown",
   "metadata": {},
   "source": [
    "## retrieve data"
   ]
  },
  {
   "cell_type": "code",
   "execution_count": 2,
   "metadata": {},
   "outputs": [],
   "source": [
    "import pathlib \n",
    "\n",
    "filename = \"processed_data.hdf5\"\n",
    "datafile = pathlib.Path(\"~/notebook_data_cache/decoding\").expanduser().joinpath(filename)\n",
    "force_update = False"
   ]
  },
  {
   "cell_type": "code",
   "execution_count": 3,
   "metadata": {},
   "outputs": [
    {
     "name": "stderr",
     "output_type": "stream",
     "text": [
      "100%|██████████| 241M/241M [00:50<00:00, 4.74Mbytes/s] \n"
     ]
    }
   ],
   "source": [
    "# Data can be found directly on OSF : https://osf.io/emq57 - No account needed  \n",
    "# or download with the osf client code below. First, `pip install osfclient`\n",
    "\n",
    "\n",
    "import osfclient\n",
    "\n",
    "if not datafile.exists() or force_update:\n",
    "    client = osfclient.OSF()\n",
    "    project = client.project(\"fgmj8\")\n",
    "    update = False\n",
    "    \n",
    "    for file in project.storage().files:\n",
    "        if file.name == filename:\n",
    "            update = True\n",
    "            with datafile.open(\"wb\") as fp:\n",
    "                file.write_to(fp)\n",
    "            break\n",
    "    \n",
    "    if not update:\n",
    "        raise(FileNotFoundError(f\"{filename} not found in the OSF project - contact the administrator of the project about it.\"))\n",
    "else:\n",
    "    print(\"I will use the dataset already present on this path. Next time, switch force_update to True if you want to update it anyway\")\n",
    "    \n"
   ]
  },
  {
   "cell_type": "markdown",
   "metadata": {},
   "source": [
    "## define parameters\n",
    "Here we set parameters for data processing and decoding."
   ]
  },
  {
   "cell_type": "code",
   "execution_count": 4,
   "metadata": {},
   "outputs": [],
   "source": [
    "# define trial epochs\n",
    "trials = fklab.segments.Segment(\n",
    "    [[2100, 2250], [2250, 2355], [2355, 2455], [2455, 2550], [2550, 2650]]\n",
    ")\n",
    "ntrials = len(trials)\n",
    "\n",
    "# select spike data\n",
    "tt_selection = [\n",
    "    \"TT1\",\n",
    "    \"TT15\",\n",
    "    \"TT16\",\n",
    "    \"TT17\",\n",
    "    \"TT19\",\n",
    "    \"TT20\",\n",
    "    \"TT23\",\n",
    "    \"TT24\",\n",
    "    \"TT5\",\n",
    "]  # tetrodes to be used for decoding\n",
    "amp_threshold = (\n",
    "    70.0  # uV, only use spikes with maximum amplitude larger than this threshold\n",
    ")\n",
    "\n",
    "# set kernel bandwidths and compression for encoding\n",
    "pos_bw = 5.0  # cm, default spatial kernel bandwidth\n",
    "amp_bw = 30.0  # uV, default spike amplitude kernel bandwidth\n",
    "compression = 1.0  # kernel density compression Mahalanobis distance threshold\n",
    "\n",
    "# set evaluation grid resolution\n",
    "fine_grid_resolution = 2.0\n",
    "# cm, spatial grid used to build squared distance matrix\n",
    "grid_resolution = 4.0\n",
    "# cm, spatial grid for decoding (should be multiple of fine grid)\n",
    "\n",
    "# set behavior options\n",
    "stim_sampling_frequency = 25.0  # Hz, sampling frequency of position tracking\n",
    "speed_threshold = 10.0  # cm/s, only use data when animal runs faster than speed threshold for building encoding model\n",
    "\n",
    "# set decoding options\n",
    "decode_bin = 0.1  # seconds, bin size for run decoding"
   ]
  },
  {
   "cell_type": "markdown",
   "metadata": {},
   "source": [
    "## maze definition and evaluation grid\n",
    "Here we define the maze. Since the maze has multiple sections that meet at choice point, the maze is represented as a graph. Distances on the graph cannot simply be computed as the difference between (linearized) positions, so we precompute a squared distance matrix for a set of finely spaced linearized points on the maze."
   ]
  },
  {
   "cell_type": "code",
   "execution_count": 5,
   "metadata": {},
   "outputs": [],
   "source": [
    "# define full maze\n",
    "maze = \"maze:\\n  comments: ''\\n  shapes:\\n    track:\\n      tags: [track]\\n      comments: ''\\n      shape: !graph_shape\\n        nodes:\\n        - [233.0, 145.0]\\n        - [184.0, 145.0]\\n        - [174.0, 168.0]\\n        - [172.0, 120.0]\\n        - [87.0, 245.0]\\n        - [138.0, 0.0]\\n        polylines:\\n        - !polyline_shape\\n          vertices:\\n          - [233.0, 145.0]\\n          - [184.0, 145.0]\\n          spline: false\\n        - !polyline_shape\\n          vertices:\\n          - [184.0, 145.0]\\n          - [174.0, 168.0]\\n          spline: false\\n        - !polyline_shape\\n          vertices:\\n          - [184.0, 145.0]\\n          - [172.0, 120.0]\\n          spline: false\\n        - !polyline_shape\\n          vertices:\\n          - [174.0, 168.0]\\n          - [87.0, 245.0]\\n          spline: false\\n        - !polyline_shape\\n          vertices:\\n          - [172.0, 120.0]\\n          - [138.0, 0.0]\\n          spline: false\\n    start:\\n      tags: [field, ' reward']\\n      comments: ''\\n      shape: !rectangle_shape\\n        center: [230.95882352941175, 144.93529411764706]\\n        size: [40.92690758786794, 47.01063709417264]\\n        orientation: 0.021273386024061366\\n    B:\\n      tags: [field, ' reward']\\n      comments: ''\\n      shape: !rectangle_shape\\n        center: [142.0, 14.000000000000016]\\n        size: [44.384682042344295]\\n        orientation: 2.891149563978441\\n    A:\\n      tags: [field, ' reward']\\n      comments: ''\\n      shape: !rectangle_shape\\n        center: [97.0, 238.0]\\n        size: [42.5205832509386]\\n        orientation: 2.4227626539681686\\n\"\n",
    "maze = yaml.unsafe_load(maze) #load a shape object directly - as to be an unsafe load\n",
    "\n",
    "# construct fine grid for complete track and compute squared distance matrix\n",
    "fine_grid = np.arange(\n",
    "    0, maze[\"maze\"][\"shapes\"][\"track\"][\"shape\"].pathlength, fine_grid_resolution\n",
    ")\n",
    "fine_gridx, fine_gridy = np.meshgrid(fine_grid, fine_grid)\n",
    "distances = (\n",
    "    maze[\"maze\"][\"shapes\"][\"track\"][\"shape\"].distance(fine_gridx, fine_gridy) ** 2\n",
    ")"
   ]
  },
  {
   "cell_type": "markdown",
   "metadata": {},
   "source": [
    "## preprocess behavioral and spiking data\n",
    "Here we load the data and map (x,y) coordinates to (linearized) position on the maze. Since we use a distance matrix, we then need to map linearized position to indices into the fine grid that was used to compute the distance matrix."
   ]
  },
  {
   "cell_type": "code",
   "execution_count": 6,
   "metadata": {},
   "outputs": [],
   "source": [
    "# load behavioral and ephys data\n",
    "f = h5py.File(datafile, \"r\")\n",
    "behavior = f[\"training/behavior\"]\n",
    "# map all xy positions to maze\n",
    "linear_pos = maze[\"maze\"][\"shapes\"][\"track\"][\"shape\"].point2path(\n",
    "    behavior[\"positionsXY\"][:]\n",
    ")[0]\n",
    "# map linearized positions to the fine grid vector\n",
    "pos = scipy.interpolate.interp1d(\n",
    "    fine_grid, np.arange(len(fine_grid)), kind=\"nearest\", bounds_error=False\n",
    ")(linear_pos)\n",
    "\n",
    "# create nearest neighbor interpolator for mapped positions for future use\n",
    "linear_pos_interpolator = scipy.interpolate.interp1d(\n",
    "    behavior[\"time\"], linear_pos, kind=\"nearest\", bounds_error=False\n",
    ")\n",
    "pos_interpolator = scipy.interpolate.interp1d(\n",
    "    behavior[\"time\"], pos, kind=\"nearest\", bounds_error=False\n",
    ")"
   ]
  },
  {
   "cell_type": "markdown",
   "metadata": {},
   "source": [
    "Next, we extract the times and amplitudes for all spikes on the selected tetrodes that meet the minimum amplitude requirement."
   ]
  },
  {
   "cell_type": "code",
   "execution_count": 7,
   "metadata": {},
   "outputs": [],
   "source": [
    "# for each selected tetrodes extract the times and amplitudes for all\n",
    "# spikes with maximum amplitude larger than threshold\n",
    "tt_data = f[\"training/ephys/MUA/tetrodes\"]\n",
    "with np.errstate(invalid=\"ignore\"):  # get rid of annoying warning about NaNs\n",
    "    selection = [\n",
    "        np.max(tt_data[tt][1:, :], axis=0) > amp_threshold for tt in tt_selection\n",
    "    ]\n",
    "tt_time = [tt_data[tt][:][0, sel] for tt, sel in zip(tt_selection, selection)]\n",
    "tt_amp = [tt_data[tt][:][1:, sel].T for tt, sel in zip(tt_selection, selection)]\n",
    "tt_pos = [pos_interpolator(t)[:, None] for t in tt_time]"
   ]
  },
  {
   "cell_type": "markdown",
   "metadata": {},
   "source": [
    "And we construct a list of run epochs where the subject ran faster than the speed threshold."
   ]
  },
  {
   "cell_type": "code",
   "execution_count": 8,
   "metadata": {},
   "outputs": [],
   "source": [
    "# determine run epochs\n",
    "with np.errstate(invalid=\"ignore\"):  # get rid of annoying warning about NaNs\n",
    "    run_epochs = fklab.segments.Segment.fromlogical(\n",
    "        behavior[\"speed\"][:] > speed_threshold, behavior[\"time\"][:]\n",
    "    )"
   ]
  },
  {
   "cell_type": "markdown",
   "metadata": {},
   "source": [
    "## define decoding spaces and grid\n",
    "To set up the encoding model, we first define the stimulus space, the spike amplitude space and the stimulus grid on which we will evaluate the posterior distribution."
   ]
  },
  {
   "cell_type": "code",
   "execution_count": 9,
   "metadata": {},
   "outputs": [],
   "source": [
    "# construct a encoded space for the subject's position with default kernel bandwidth\n",
    "# using the precomputed squared distance matrix\n",
    "space = compressed_kde.EncodedSpace(\"position\", distances=distances, bandwidth=pos_bw)\n",
    "\n",
    "# construct a coarse grid for evaluation by skipping N points in the fine grid\n",
    "grid = space.grid(int(round(grid_resolution / fine_grid_resolution)))\n",
    "grid_vector = fine_grid[:: int(round(grid_resolution / fine_grid_resolution))]\n",
    "\n",
    "# construct multi-dimensional euclidean space for spike amplitudes with default kernel bandwidth\n",
    "spike_space = compressed_kde.EuclideanSpace(\n",
    "    [\"amp{0}\".format(x) for x in range(4)], bandwidth=[amp_bw,] * 4\n",
    ")"
   ]
  },
  {
   "cell_type": "markdown",
   "metadata": {},
   "source": [
    "## convenience function for building decoder and binning data\n",
    "For cross-validation, we need to rebuild the encoding model for different training data sets, and decode different test data sets. Below we define a decoder factory function that will accept all our stimulus and spike data and return a function that will build a new decoder for us given a set of training epochs."
   ]
  },
  {
   "cell_type": "code",
   "execution_count": 10,
   "metadata": {},
   "outputs": [],
   "source": [
    "def decoder_build_factory(**kwargs):\n",
    "\n",
    "    kwd = {\n",
    "        \"stimulus_space\",\n",
    "        \"grid\",\n",
    "        \"stimulus_duration\",\n",
    "        \"compression\",\n",
    "        \"stimulus\",\n",
    "        \"stimulus_time\",\n",
    "        \"event_time\",\n",
    "        \"event_stimulus\",\n",
    "        \"event_data\",\n",
    "        \"event_space\",\n",
    "    }\n",
    "\n",
    "    if not kwd.issubset(set(kwargs.keys())):\n",
    "        raise ValueError(\"We are missing some keyword arguments\")\n",
    "\n",
    "    def fcn(epochs):\n",
    "\n",
    "        # first create a Stimulus object that represents the stimulus probability density\n",
    "        stim = decode.Stimulus(\n",
    "            kwargs[\"stimulus_space\"],\n",
    "            kwargs[\"grid\"],\n",
    "            kwargs[\"stimulus_duration\"],\n",
    "            kwargs[\"compression\"],\n",
    "        )\n",
    "        stim.add_stimuli(\n",
    "            kwargs[\"stimulus\"][epochs.contains(kwargs[\"stimulus_time\"])[0]]\n",
    "        )\n",
    "\n",
    "        # then build the likelihoods for each of the sources (tetrodes)\n",
    "        likelihoods = []\n",
    "        for event_time, event_stimulus, event_data in zip(\n",
    "            kwargs[\"event_time\"], kwargs[\"event_stimulus\"], kwargs[\"event_data\"]\n",
    "        ):\n",
    "            selection = epochs.contains(event_time)[\n",
    "                0\n",
    "            ]  # select events within training epochs\n",
    "            L = decode.PoissonLikelihood(kwargs[\"event_space\"], stim)\n",
    "            L.add_events(\n",
    "                np.concatenate(\n",
    "                    (event_data[selection], event_stimulus[selection]), axis=1\n",
    "                )\n",
    "            )\n",
    "            likelihoods.append(L)\n",
    "\n",
    "        # build decoder from likelihoods\n",
    "        decoder = decode.Decoder(likelihoods, [])\n",
    "\n",
    "        return decoder\n",
    "\n",
    "    return fcn"
   ]
  },
  {
   "cell_type": "code",
   "execution_count": 11,
   "metadata": {},
   "outputs": [],
   "source": [
    "# let's use the factory function to create our decoder building function for our data\n",
    "data = dict( stimulus_space=space, grid=grid, stimulus_duration=1./stim_sampling_frequency,\n",
    "             compression=compression, stimulus=pos, stimulus_time=behavior['time'][:],\n",
    "             event_time=tt_time, event_data=tt_amp, event_stimulus=tt_pos, event_space=spike_space )\n",
    "\n",
    "build_decoder = decoder_build_factory(**data)"
   ]
  },
  {
   "cell_type": "markdown",
   "metadata": {},
   "source": [
    "We will use the same factory approach for constructing the test data sets."
   ]
  },
  {
   "cell_type": "code",
   "execution_count": 12,
   "metadata": {},
   "outputs": [],
   "source": [
    "def data_build_factory(**kwargs):\n",
    "\n",
    "    kwd = {\"decode_bin\", \"event_time\", \"event_data\"}\n",
    "\n",
    "    if not kwd.issubset(set(kwargs.keys())):\n",
    "        raise ValueError(\"We are missing some keyword arguments\")\n",
    "\n",
    "    def fcn(epochs):\n",
    "\n",
    "        # split epochs into smaller bins for decoding\n",
    "        decode_segments = epochs.split(size=kwargs[\"decode_bin\"])\n",
    "        bins = [\n",
    "            decode_segments.contains(x, expand=True)[2] for x in kwargs[\"event_time\"]\n",
    "        ]\n",
    "\n",
    "        # extract event data for each decoding bin\n",
    "        data = [\n",
    "            [\n",
    "                np.zeros((0, x.shape[1]))\n",
    "                if len(b[s]) == 1 and b[s][0] == -1\n",
    "                else x[b[s], :]\n",
    "                for x, b in zip(kwargs[\"event_data\"], bins)\n",
    "            ]\n",
    "            for s in range(len(decode_segments))\n",
    "        ]\n",
    "\n",
    "        return decode_segments, data\n",
    "\n",
    "    return fcn"
   ]
  },
  {
   "cell_type": "code",
   "execution_count": 13,
   "metadata": {},
   "outputs": [],
   "source": [
    "# let's use the factory function to create our data building function for our data\n",
    "data = dict(decode_bin=decode_bin, event_time=tt_time, event_data=tt_amp)\n",
    "\n",
    "build_data = data_build_factory(**data)"
   ]
  },
  {
   "cell_type": "markdown",
   "metadata": {},
   "source": [
    "## perform cross-validation\n",
    "Here we perform the cross-validation by looping through all trials and using the current trial to generate the test data set and the other trials to create the encoding model/decoder. Finally, we compute and collect the decoding error."
   ]
  },
  {
   "cell_type": "code",
   "execution_count": 14,
   "metadata": {},
   "outputs": [],
   "source": [
    "# create lists for collecting real position, estimates and errors\n",
    "reals = []\n",
    "estimates = []\n",
    "errors = []\n",
    "posteriors = []\n",
    "\n",
    "# perform ntrial-fold cross validation\n",
    "# i.e. each trial will be used for test data once and\n",
    "# the others are used for training data\n",
    "\n",
    "for test_trial in range(ntrials):\n",
    "\n",
    "    # set training epochs to all trials except the test trial\n",
    "    training_epochs = run_epochs.intersection(\n",
    "        trials[[trial for trial in range(ntrials) if trial != test_trial]]\n",
    "    )\n",
    "\n",
    "    # construct decoder for current training epochs\n",
    "    decoder = build_decoder(training_epochs)\n",
    "\n",
    "    # test data during run maze arm runs for test trial only\n",
    "    test_epochs = run_epochs.intersection(trials[test_trial])\n",
    "\n",
    "    # extract event data for each time bin\n",
    "    decode_segments, data = build_data(test_epochs)\n",
    "\n",
    "    # perform decoding and concatenate posteriors\n",
    "    posterior = [decoder.decode(x, decode_bin, True) for x in data]\n",
    "    posterior = np.vstack(posterior)\n",
    "    posteriors.append(posterior)\n",
    "    \n",
    "    # compute MAP estimates\n",
    "    estimates.append(grid_vector[np.argmax(posterior, axis=1)])\n",
    "    # determine real stimulus values\n",
    "    reals.append(linear_pos_interpolator(decode_segments.center))\n",
    "    # compute errors\n",
    "    errors.append(\n",
    "        np.abs(\n",
    "            maze[\"maze\"][\"shapes\"][\"track\"][\"shape\"].distance(estimates[-1], reals[-1])\n",
    "        )\n",
    "    )\n",
    "\n",
    "estimates = np.concatenate(estimates)\n",
    "reals = np.concatenate(reals)\n",
    "errors = np.concatenate(errors)"
   ]
  },
  {
   "cell_type": "code",
   "execution_count": 15,
   "metadata": {},
   "outputs": [
    {
     "data": {
      "image/png": "[encoded data removed]",
      "text/plain": [
       "<Figure size 1080x288 with 2 Axes>"
      ]
     },
     "metadata": {
      "needs_background": "light"
     },
     "output_type": "display_data"
    }
   ],
   "source": [
    "fig, ax = plt.subplots(1, 1, figsize=(15,4))\n",
    "img = ax.imshow(posteriors[0].T, cmap=\"gray_r\")\n",
    "ax.set(ylabel=\"position bin\", xlabel=\"time bin\")\n",
    "plt.colorbar(img, label=\"posterior probability\");"
   ]
  },
  {
   "cell_type": "markdown",
   "metadata": {},
   "source": [
    "## assess decoding results"
   ]
  },
  {
   "cell_type": "code",
   "execution_count": 16,
   "metadata": {},
   "outputs": [],
   "source": [
    "# get borders between maze section in linearized position\n",
    "nodes = np.cumsum(\n",
    "    [0.0,] + maze[\"maze\"][\"shapes\"][\"track\"][\"shape\"].edgelengths.tolist()\n",
    ")\n",
    "nsections = len(nodes) - 1\n",
    "\n",
    "estimated_section = np.digitize(estimates, nodes) - 1\n",
    "real_section = np.digitize(reals, nodes) - 1\n",
    "\n",
    "# compute error statistics\n",
    "median_error = np.median(errors)\n",
    "correct = 100.0 * np.mean(estimated_section == real_section)\n",
    "\n",
    "# compute error statistics per maze section\n",
    "median_error_by_section = [\n",
    "    np.median(errors[np.logical_and(reals >= nodes[k], reals < nodes[k + 1])])\n",
    "    for k in range(nsections)\n",
    "]\n",
    "correct_by_section = [\n",
    "    100.0 * np.mean(estimated_section[real_section == k] == k) for k in range(nsections)\n",
    "]"
   ]
  },
  {
   "cell_type": "code",
   "execution_count": 17,
   "metadata": {},
   "outputs": [
    {
     "name": "stdout",
     "output_type": "stream",
     "text": [
      "overall median error is 5.8cm\n",
      "median error per maze section is 5.2cm, 6.8cm, 5.5cm, 5.6cm, 7.0cm\n",
      "overall % correct maze section is 89%\n",
      "% correct per maze section is 89%, 65%, 86%, 90%, 93%\n"
     ]
    },
    {
     "data": {
      "image/png": "[encoded data removed]",
      "text/plain": [
       "<Figure size 864x432 with 2 Axes>"
      ]
     },
     "metadata": {
      "needs_background": "light"
     },
     "output_type": "display_data"
    }
   ],
   "source": [
    "# plot confusion matrix: true position vs estimated position\n",
    "fig, ax = plt.subplots(1, 2, figsize=(12, 6))\n",
    "ax[0].plot(reals, estimates, \"ko\", alpha=0.3, markersize=4, markeredgecolor=\"none\")\n",
    "ax[0].set_ylabel(\"estimated position on track [linearized cm]\")\n",
    "ax[0].set_xlabel(\"real position on track [linearized cm]\")\n",
    "ax[0].set_title(\"Confusion plot\")\n",
    "\n",
    "# plot maze section borders\n",
    "for val in nodes:\n",
    "    ax[0].axhline(val, color=\"thistle\")\n",
    "    ax[0].axvline(val, color=\"thistle\")\n",
    "\n",
    "# plot error distribution\n",
    "def ecdf(x):\n",
    "    return np.sort(x), np.arange(1, len(x) + 1, dtype=float) / len(x)\n",
    "\n",
    "\n",
    "x, y = ecdf(errors)\n",
    "\n",
    "ax[1].plot(x, y, \"k\")\n",
    "ax[1].set_ylabel(\"cumulative density\")\n",
    "ax[1].set_xlabel(\"error [cm]\")\n",
    "ax[1].set_title(\"Error distribution\")\n",
    "ax[1].plot(median_error, 0.5, \"ko\")\n",
    "ax[1].text(median_error + 10, 0.5, \"median error = {0:0.1f}cm\".format(median_error))\n",
    "\n",
    "# print summary statistic\n",
    "print(\"overall median error is {0:0.1f}cm\".format(median_error))\n",
    "print(\n",
    "    \"median error per maze section is \"\n",
    "    + \", \".join([\"{0:0.1f}cm\".format(x) for x in median_error_by_section])\n",
    ")\n",
    "\n",
    "print(\"overall % correct maze section is {0:0.0f}%\".format(correct))\n",
    "print(\n",
    "    \"% correct per maze section is \"\n",
    "    + \", \".join([\"{0:0.0f}%\".format(x) for x in correct_by_section])\n",
    ")"
   ]
  },
  {
   "cell_type": "markdown",
   "metadata": {},
   "source": [
    "## Save decoder"
   ]
  },
  {
   "cell_type": "code",
   "execution_count": 18,
   "metadata": {},
   "outputs": [],
   "source": [
    "decoder_file = str(datafile.parent.joinpath(\"decoder.hdf5\"))\n",
    "\n",
    "# Save\n",
    "decoder.save_to_hdf5(decoder_file)"
   ]
  },
  {
   "cell_type": "markdown",
   "metadata": {},
   "source": [
    "## Test saved decoder"
   ]
  },
  {
   "cell_type": "code",
   "execution_count": 19,
   "metadata": {},
   "outputs": [],
   "source": [
    "# load\n",
    "z = decode.Decoder.load_from_hdf5(decoder_file)"
   ]
  },
  {
   "cell_type": "code",
   "execution_count": 20,
   "metadata": {},
   "outputs": [],
   "source": [
    "test_trial = 0\n",
    "\n",
    "# set training epochs to all trials except the test trial\n",
    "training_epochs = run_epochs.intersection(\n",
    "    trials[[trial for trial in range(ntrials) if trial != test_trial]]\n",
    ")\n",
    "\n",
    "# construct decoder for current training epochs\n",
    "decoder = build_decoder(training_epochs)"
   ]
  },
  {
   "cell_type": "code",
   "execution_count": 21,
   "metadata": {
    "tags": []
   },
   "outputs": [],
   "source": [
    "# test data during run maze arm runs for test trial only\n",
    "test_epochs = run_epochs.intersection(trials[test_trial])\n",
    "\n",
    "# extract event data for each time bin\n",
    "decode_segments, data = build_data(test_epochs)\n",
    "\n",
    "# perform decoding and concatenate posteriors\n",
    "zposterior = [z.decode(x, decode_bin, True) for x in data]\n",
    "zposterior = np.vstack(zposterior)\n",
    "\n",
    "posterior = [decoder.decode(x, decode_bin, True) for x in data]\n",
    "posterior = np.vstack(posterior)"
   ]
  },
  {
   "cell_type": "code",
   "execution_count": 22,
   "metadata": {},
   "outputs": [
    {
     "data": {
      "image/png": "[encoded data removed]",
      "text/plain": [
       "<Figure size 1080x288 with 2 Axes>"
      ]
     },
     "metadata": {
      "needs_background": "light"
     },
     "output_type": "display_data"
    }
   ],
   "source": [
    "fig, ax = plt.subplots(1, 1, figsize=(15,4))\n",
    "img = ax.imshow(zposterior.T, cmap=\"gray_r\")\n",
    "ax.set(ylabel=\"position bin\", xlabel=\"time bin\")\n",
    "plt.colorbar(img, label=\"posterior probability\");"
   ]
  },
  {
   "cell_type": "markdown",
   "metadata": {},
   "source": [
    "## Explore contents of saved HDF5 file"
   ]
  },
  {
   "cell_type": "code",
   "execution_count": 23,
   "metadata": {},
   "outputs": [],
   "source": [
    "# define function to recursively get group keys\n",
    "# based on: https://stackoverflow.com/a/59898173\n",
    "\n",
    "def allkeys(obj, depth=100):\n",
    "    \"Recursively find all keys in an h5py.Group.\"\n",
    "    keys = (obj.name,)\n",
    "    \n",
    "    if depth==0:\n",
    "        return keys\n",
    "    \n",
    "    if isinstance(obj, h5py.Group):\n",
    "        for key, value in obj.items():\n",
    "            if isinstance(value, h5py.Group):\n",
    "                keys = keys + allkeys(value, depth-1)\n",
    "            else:\n",
    "                keys = keys + (value.name,)\n",
    "    return keys    "
   ]
  },
  {
   "cell_type": "code",
   "execution_count": 24,
   "metadata": {},
   "outputs": [
    {
     "name": "stdout",
     "output_type": "stream",
     "text": [
      "Top level structure of file:\n",
      "\n",
      "/\n",
      "/likelihood\n",
      "/likelihood/likelihood_0_0\n",
      "/likelihood/likelihood_1_0\n",
      "/likelihood/likelihood_2_0\n",
      "/likelihood/likelihood_3_0\n",
      "/likelihood/likelihood_4_0\n",
      "/likelihood/likelihood_5_0\n",
      "/likelihood/likelihood_6_0\n",
      "/likelihood/likelihood_7_0\n",
      "/likelihood/likelihood_8_0\n",
      "/nsources\n",
      "/nunion\n",
      "/priors\n",
      "/priors/prior0\n",
      "/selection\n",
      "/stimulus\n",
      "/stimulus/stimulus_0_0\n"
     ]
    }
   ],
   "source": [
    "hf = h5py.File(decoder_file, \"r\")\n",
    "\n",
    "# look at top-level keys\n",
    "print(\"Top level structure of file:\\n\")\n",
    "for k in allkeys(hf,2):\n",
    "    print(k)"
   ]
  },
  {
   "cell_type": "code",
   "execution_count": 25,
   "metadata": {},
   "outputs": [
    {
     "name": "stdout",
     "output_type": "stream",
     "text": [
      "Structure of likelihood:\n",
      "\n",
      "/likelihood/likelihood_0_0\n",
      "/likelihood/likelihood_0_0/event_distribution\n",
      "/likelihood/likelihood_0_0/event_distribution/kernels\n",
      "/likelihood/likelihood_0_0/event_distribution/nkernels\n",
      "/likelihood/likelihood_0_0/event_distribution/space\n",
      "/likelihood/likelihood_0_0/event_distribution/sum_of_nsamples\n",
      "/likelihood/likelihood_0_0/event_distribution/sum_of_weights\n",
      "/likelihood/likelihood_0_0/event_distribution/threshold\n",
      "/likelihood/likelihood_0_0/event_distribution/weights\n",
      "/likelihood/likelihood_0_0/random_insertion\n",
      "/likelihood/likelihood_0_0/rate_scale\n"
     ]
    }
   ],
   "source": [
    "# Look at likelihood example\n",
    "print(\"Structure of likelihood:\\n\")\n",
    "for k in allkeys(hf['likelihood/likelihood_0_0'], 2):\n",
    "    print(k)"
   ]
  },
  {
   "cell_type": "code",
   "execution_count": 26,
   "metadata": {},
   "outputs": [
    {
     "name": "stdout",
     "output_type": "stream",
     "text": [
      "Structure of space:\n",
      "\n",
      "/stimulus/stimulus_0_0/stimulus_distribution/space\n",
      "/stimulus/stimulus_0_0/stimulus_distribution/space/kernel\n",
      "/stimulus/stimulus_0_0/stimulus_distribution/space/kernel/bw\n",
      "/stimulus/stimulus_0_0/stimulus_distribution/space/kernel/loc\n",
      "/stimulus/stimulus_0_0/stimulus_distribution/space/space\n",
      "/stimulus/stimulus_0_0/stimulus_distribution/space/space/kernel\n",
      "/stimulus/stimulus_0_0/stimulus_distribution/space/space/kernel/info\n",
      "/stimulus/stimulus_0_0/stimulus_distribution/space/space/kernel/info/cutoff\n",
      "/stimulus/stimulus_0_0/stimulus_distribution/space/space/kernel/type\n",
      "/stimulus/stimulus_0_0/stimulus_distribution/space/space/lut\n",
      "/stimulus/stimulus_0_0/stimulus_distribution/space/space/name\n",
      "\n",
      "Space class: encoded\n"
     ]
    }
   ],
   "source": [
    "# look at space \n",
    "\n",
    "print(\"Structure of space:\\n\")\n",
    "for k in allkeys(hf['stimulus/stimulus_0_0/stimulus_distribution/space']):\n",
    "    print(k)\n",
    "    \n",
    "print(\"\\nSpace class: {}\".format(\n",
    "    hf[\"stimulus/stimulus_0_0/stimulus_distribution/space/\"].attrs['class']\n",
    "))"
   ]
  },
  {
   "cell_type": "code",
   "execution_count": 27,
   "metadata": {},
   "outputs": [],
   "source": [
    "# load only stimulus\n",
    "stim = decode.Stimulus.load_from_hdf5(decoder_file, '/stimulus/stimulus_0_0')"
   ]
  }
 ],
 "metadata": {
  "celltoolbar": "Éditer les Méta-Données",
  "keep_output": true,
  "kernelspec": {
   "display_name": "Python 3",
   "language": "python",
   "name": "python3"
  },
  "language_info": {
   "codemirror_mode": {
    "name": "ipython",
    "version": 3
   },
   "file_extension": ".py",
   "mimetype": "text/x-python",
   "name": "python",
   "nbconvert_exporter": "python",
   "pygments_lexer": "ipython3",
   "version": "3.7.11"
  },
  "toc": {
   "colors": {
    "hover_highlight": "#DAA520",
    "navigate_num": "#000000",
    "navigate_text": "#333333",
    "running_highlight": "#FF0000",
    "selected_highlight": "#FFD700",
    "sidebar_border": "#EEEEEE",
    "wrapper_background": "#FFFFFF"
   },
   "moveMenuLeft": true,
   "nav_menu": {
    "height": "192px",
    "width": "252px"
   },
   "navigate_menu": true,
   "number_sections": true,
   "sideBar": true,
   "threshold": 4,
   "toc_cell": false,
   "toc_section_display": "block",
   "toc_window_display": false,
   "widenNotebook": false
  }
 },
 "nbformat": 4,
 "nbformat_minor": 4
}
